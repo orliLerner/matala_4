{
 "cells": [
  {
   "cell_type": "code",
   "execution_count": 2,
   "metadata": {
    "direction": "rtl"
   },
   "outputs": [
    {
     "name": "stdout",
     "output_type": "stream",
     "text": [
      "Please enter another destination\n",
      "There is not 5 destinations!\n"
     ]
    }
   ],
   "source": [
    "##Enter my API Key\n",
    "api_key =\"Enter my API please here\"\n",
    "##My code\n",
    "import json, requests, urllib\n",
    "from urllib.parse import urlparse\n",
    "import pandas as pd\n",
    "##opening the txt file\n",
    "file_open = open('dests.txt','r',encoding ='utf-8')\n",
    "text_read = file_open.readlines() \n",
    "##creating data structures\n",
    "maxNum3 = dict()\n",
    "dic = dict()\n",
    "tup = tuple()\n",
    "results = dict() \n",
    "count = 0 \n",
    "##looping every line\n",
    "for line in text_read:\n",
    "        serviceurl_distancematrix = 'https://maps.googleapis.com/maps/api/distancematrix/json?'\n",
    "        serviceurl_geocode =\"https://maps.googleapis.com/maps/api/geocode/json?address=%s&key=%s\" % (line,api_key)\n",
    "        dic['origins'] = 'תל אביב'\n",
    "        dic['destinations'] = line\n",
    "        dic['key'] = api_key\n",
    "        url_distancematrix = serviceurl_distancematrix + urllib.parse.urlencode(dic)\n",
    "        try:\n",
    "            response_distancematrix = requests.get(url_distancematrix)\n",
    "            if not response_distancematrix.status_code == 200:\n",
    "                print(\"HTTP error, please check the destination\", response_distancematrix.status_code)\n",
    "        except:\n",
    "            print(\"Somthing went wrong with requests.get\")\n",
    "            break\n",
    "        try:\n",
    "            response_data = response_distancematrix.json()\n",
    "        except:\n",
    "            print(\"response isn't in valid json format\")\n",
    "            break\n",
    "        response_data_new = json.dumps(response_data)\n",
    "        response_data_new = json.loads(response_data_new)\n",
    "        try:\n",
    "            response_ge = requests.get(serviceurl_geocode).json()\n",
    "            response_geo = json.dumps(response_ge)\n",
    "            response_geocode = json.loads(response_geo)\n",
    "            longitude = response_geocode['results'][0]['geometry']['location']['lng'] ##longitude\n",
    "            latitude = response_geocode['results'][0]['geometry']['location']['lat'] ##latitude\n",
    "            distance = response_data_new[\"rows\"][0][\"elements\"][0][\"distance\"][\"text\"] ##distance\n",
    "            distance_str = distance.split()[0]\n",
    "            distance_int = int(distance_str.replace(',', ''))\n",
    "            ##entering numbers to dic\n",
    "            maxNum3[line.rstrip()] = distance_int\n",
    "            max_print = sorted(maxNum3, key=maxNum3.get)\n",
    "            duration = response_data_new[\"rows\"][0][\"elements\"][0][\"duration\"][\"text\"] ##duration\n",
    "            tup = (distance_str+\" km\", duration, longitude, latitude)\n",
    "            results[line.rstrip()] = (tup)\n",
    "        except:\n",
    "            print(\"Please enter another destination\")\n",
    "            break          \n",
    "lst = [] \n",
    "for dis,des in sorted(maxNum3.items()):\n",
    "    newtup = (des, dis)\n",
    "    lst.append(newtup)  \n",
    "lst = sorted(lst, reverse=True)\n",
    "if len(results) == 5:\n",
    "    df = pd.DataFrame.from_dict(results, orient='index',columns=['Distance', 'Duration', 'Longtitude', 'Latitude'])\n",
    "    display(df)\n",
    "    maxNumbers = pd.DataFrame(lst,columns=['Distance','Destination'])\n",
    "    print(\":שלושת הערים הרחוקות מתל אביב הן\")\n",
    "    display(maxNumbers[0:3])\n",
    "else:\n",
    "    print(\"There is not 5 destinations!\")"
   ]
  },
  {
   "cell_type": "code",
   "execution_count": null,
   "metadata": {
    "direction": "rtl"
   },
   "outputs": [],
   "source": []
  },
  {
   "cell_type": "code",
   "execution_count": null,
   "metadata": {},
   "outputs": [],
   "source": []
  },
  {
   "cell_type": "code",
   "execution_count": null,
   "metadata": {},
   "outputs": [],
   "source": []
  },
  {
   "cell_type": "code",
   "execution_count": null,
   "metadata": {},
   "outputs": [],
   "source": []
  },
  {
   "cell_type": "code",
   "execution_count": null,
   "metadata": {},
   "outputs": [],
   "source": []
  }
 ],
 "metadata": {
  "direction": "ltr",
  "kernelspec": {
   "display_name": "Python 3",
   "language": "python",
   "name": "python3"
  },
  "language_info": {
   "codemirror_mode": {
    "name": "ipython",
    "version": 3
   },
   "file_extension": ".py",
   "mimetype": "text/x-python",
   "name": "python",
   "nbconvert_exporter": "python",
   "pygments_lexer": "ipython3",
   "version": "3.8.5"
  }
 },
 "nbformat": 4,
 "nbformat_minor": 4
}
